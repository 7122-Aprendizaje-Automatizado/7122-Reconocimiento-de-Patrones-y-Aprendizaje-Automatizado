{
  "nbformat": 4,
  "nbformat_minor": 0,
  "metadata": {
    "colab": {
      "provenance": []
    },
    "kernelspec": {
      "name": "python3",
      "display_name": "Python 3"
    },
    "language_info": {
      "name": "python"
    }
  },
  "cells": [
    {
      "cell_type": "code",
      "execution_count": null,
      "metadata": {
        "id": "-1OcAHmJC7Dw"
      },
      "outputs": [],
      "source": [
        "\n",
        "import numpy as np\n",
        "from matplotlib import pyplot as plt\n",
        "%matplotlib inline\n",
        "\n",
        "from keras.datasets import mnist\n",
        "from keras.models   import Sequential\n",
        "from keras.layers   import Dense\n",
        "from keras.layers   import Dropout\n",
        "from keras.layers   import Convolution2D\n",
        "from keras.layers   import MaxPooling2D\n",
        "from keras.layers   import Flatten\n",
        "from keras.utils    import to_categorical\n",
        "\n",
        "from sklearn.model_selection import train_test_split\n",
        "from sklearn.metrics         import classification_report"
      ]
    },
    {
      "cell_type": "code",
      "source": [
        "(x_train, y_train), (x_test, y_test) = mnist.load_data()"
      ],
      "metadata": {
        "id": "9nI6PcrnDmw5"
      },
      "execution_count": null,
      "outputs": []
    },
    {
      "cell_type": "code",
      "source": [
        "x_train = x_train.astype('float32')\n",
        "x_train/=255\n",
        "y_train_cat = to_categorical(y_train, 10)\n",
        "x_test = x_test.astype('float32')\n",
        "x_test/=255\n",
        "y_test_cat = to_categorical(y_test, 10)"
      ],
      "metadata": {
        "id": "akPnc3bMEKFU"
      },
      "execution_count": null,
      "outputs": []
    },
    {
      "cell_type": "code",
      "source": [
        "idx = 20\n",
        "plt.imshow(x_train[idx])\n",
        "print(y_train[idx])\n",
        "print(y_train_cat[idx])"
      ],
      "metadata": {
        "colab": {
          "base_uri": "https://localhost:8080/",
          "height": 465
        },
        "id": "f3kf8rpoEX3O",
        "outputId": "90007c3e-7e1d-4010-b69a-6dacdc575662"
      },
      "execution_count": null,
      "outputs": [
        {
          "output_type": "stream",
          "name": "stdout",
          "text": [
            "4\n",
            "[0. 0. 0. 0. 1. 0. 0. 0. 0. 0.]\n"
          ]
        },
        {
          "output_type": "display_data",
          "data": {
            "text/plain": [
              "<Figure size 640x480 with 1 Axes>"
            ],
            "image/png": "[encoded data removed]"
          },
          "metadata": {}
        }
      ]
    },
    {
      "cell_type": "code",
      "source": [
        "red_digitos = Sequential()\n",
        "\n",
        "## agregamos convoluciones\n",
        "## 2 bloques con su respectivo filtro de Max Pooling\n",
        "red_digitos.add(Convolution2D(12, kernel_size=(3,3), activation='relu', \n",
        "                       input_shape=(28,28,1)))\n",
        "red_digitos.add(MaxPooling2D(pool_size=(2,2)))\n",
        "# red_digitos.add(Dropout(0.25))\n",
        "\n",
        "red_digitos.add(Convolution2D(48, kernel_size=(3,3), activation='relu'))\n",
        "red_digitos.add(MaxPooling2D(pool_size=(2,2)))\n",
        "# red_digitos.add(Dropout(0.25))\n",
        "\n",
        "## Despues de sacar atributos, debemos pasarla\n",
        "## al perceptrón, para eso debemos \"aplanar\" el tensor\n",
        "red_digitos.add(Flatten())\n",
        "\n",
        "## Construimos el perceptrón\n",
        "red_digitos.add(Dense(128, activation='relu'))\n",
        "# red_digitos.add(Dropout(0.5))\n",
        "\n",
        "## después de dos capas agregamos la capa final que debe \n",
        "## tener una activacion de softmax y 10 unidades\n",
        "red_digitos.add(Dense(10, activation='softmax'))\n",
        "\n",
        "red_digitos.summary()"
      ],
      "metadata": {
        "colab": {
          "base_uri": "https://localhost:8080/"
        },
        "id": "4ZtZ4Ox7FMFJ",
        "outputId": "b60d91d5-1348-4838-d5b6-4616bd6d607c"
      },
      "execution_count": null,
      "outputs": [
        {
          "output_type": "stream",
          "name": "stdout",
          "text": [
            "Model: \"sequential_9\"\n",
            "_________________________________________________________________\n",
            " Layer (type)                Output Shape              Param #   \n",
            "=================================================================\n",
            " conv2d_17 (Conv2D)          (None, 26, 26, 12)        120       \n",
            "                                                                 \n",
            " max_pooling2d_17 (MaxPoolin  (None, 13, 13, 12)       0         \n",
            " g2D)                                                            \n",
            "                                                                 \n",
            " conv2d_18 (Conv2D)          (None, 11, 11, 48)        5232      \n",
            "                                                                 \n",
            " max_pooling2d_18 (MaxPoolin  (None, 5, 5, 48)         0         \n",
            " g2D)                                                            \n",
            "                                                                 \n",
            " flatten_9 (Flatten)         (None, 1200)              0         \n",
            "                                                                 \n",
            " dense_24 (Dense)            (None, 128)               153728    \n",
            "                                                                 \n",
            " dense_25 (Dense)            (None, 10)                1290      \n",
            "                                                                 \n",
            "=================================================================\n",
            "Total params: 160,370\n",
            "Trainable params: 160,370\n",
            "Non-trainable params: 0\n",
            "_________________________________________________________________\n"
          ]
        }
      ]
    },
    {
      "cell_type": "markdown",
      "source": [
        "Compilamos el modelo, lo que significa definir el método de optimización y la función de pérdida, así como la métrica para determinar qué tan bien resultó la salida."
      ],
      "metadata": {
        "id": "xmsGwrTnF1AC"
      }
    },
    {
      "cell_type": "code",
      "source": [
        "red_digitos.compile(optimizer=\"adam\", \n",
        "                    loss=\"categorical_crossentropy\",\n",
        "                    metrics=[\"accuracy\"])"
      ],
      "metadata": {
        "id": "zWPTAjkmHczi"
      },
      "execution_count": null,
      "outputs": []
    },
    {
      "cell_type": "markdown",
      "source": [
        "Una vez compilada nuestra red ya podemos entrenar."
      ],
      "metadata": {
        "id": "iuvROWsG8kJg"
      }
    },
    {
      "cell_type": "code",
      "source": [
        "y_test_cat[0]"
      ],
      "metadata": {
        "colab": {
          "base_uri": "https://localhost:8080/"
        },
        "id": "rFRtPCrRKKoP",
        "outputId": "3ba24913-db42-4046-dc06-82bd02b862a9"
      },
      "execution_count": null,
      "outputs": [
        {
          "output_type": "execute_result",
          "data": {
            "text/plain": [
              "array([0., 0., 0., 0., 0., 0., 0., 1., 0., 0.], dtype=float32)"
            ]
          },
          "metadata": {},
          "execution_count": 87
        }
      ]
    },
    {
      "cell_type": "code",
      "source": [
        "epocas = 10\n",
        "lotes = 128\n",
        "\n",
        "H = red_digitos.fit(x=x_train, y=y_train_cat,\n",
        "                    validation_data=(x_test, y_test_cat), \n",
        "                    epochs=epocas,\n",
        "                    workers=4,\n",
        "                    batch_size=64)"
      ],
      "metadata": {
        "id": "Y6_Htbk8kvz6",
        "colab": {
          "base_uri": "https://localhost:8080/"
        },
        "outputId": "29963558-2c37-4bad-e5d9-6753147a94ac"
      },
      "execution_count": null,
      "outputs": [
        {
          "output_type": "stream",
          "name": "stdout",
          "text": [
            "Epoch 1/10\n",
            "469/469 [==============================] - 44s 88ms/step - loss: 0.2392 - accuracy: 0.9339 - val_loss: 0.0653 - val_accuracy: 0.9797\n",
            "Epoch 2/10\n",
            "469/469 [==============================] - 34s 73ms/step - loss: 0.0630 - accuracy: 0.9807 - val_loss: 0.0479 - val_accuracy: 0.9852\n",
            "Epoch 3/10\n",
            "469/469 [==============================] - 33s 71ms/step - loss: 0.0443 - accuracy: 0.9865 - val_loss: 0.0389 - val_accuracy: 0.9858\n",
            "Epoch 4/10\n",
            "469/469 [==============================] - 34s 73ms/step - loss: 0.0346 - accuracy: 0.9893 - val_loss: 0.0346 - val_accuracy: 0.9887\n",
            "Epoch 5/10\n",
            "469/469 [==============================] - 36s 77ms/step - loss: 0.0269 - accuracy: 0.9915 - val_loss: 0.0305 - val_accuracy: 0.9893\n",
            "Epoch 6/10\n",
            "469/469 [==============================] - 34s 71ms/step - loss: 0.0214 - accuracy: 0.9937 - val_loss: 0.0319 - val_accuracy: 0.9892\n",
            "Epoch 7/10\n",
            "469/469 [==============================] - 34s 72ms/step - loss: 0.0184 - accuracy: 0.9946 - val_loss: 0.0363 - val_accuracy: 0.9896\n",
            "Epoch 8/10\n",
            "469/469 [==============================] - 33s 71ms/step - loss: 0.0150 - accuracy: 0.9956 - val_loss: 0.0356 - val_accuracy: 0.9887\n",
            "Epoch 9/10\n",
            "469/469 [==============================] - 36s 77ms/step - loss: 0.0121 - accuracy: 0.9961 - val_loss: 0.0330 - val_accuracy: 0.9900\n",
            "Epoch 10/10\n",
            "469/469 [==============================] - 34s 72ms/step - loss: 0.0099 - accuracy: 0.9971 - val_loss: 0.0268 - val_accuracy: 0.9915\n"
          ]
        }
      ]
    },
    {
      "cell_type": "code",
      "source": [
        "score = red_digitos.evaluate(x_test, y_test_cat, verbose=1)\n",
        "score"
      ],
      "metadata": {
        "colab": {
          "base_uri": "https://localhost:8080/"
        },
        "id": "r-wfzI6sCqis",
        "outputId": "22662f42-2f9b-4212-eeed-1eef591e0653"
      },
      "execution_count": null,
      "outputs": [
        {
          "output_type": "stream",
          "name": "stdout",
          "text": [
            "313/313 [==============================] - 3s 8ms/step - loss: 0.0268 - accuracy: 0.9915\n"
          ]
        },
        {
          "output_type": "execute_result",
          "data": {
            "text/plain": [
              "[0.026764925569295883, 0.9915000200271606]"
            ]
          },
          "metadata": {},
          "execution_count": 91
        }
      ]
    },
    {
      "cell_type": "code",
      "source": [
        "plt.plot(H.history['loss'])\n",
        "plt.plot(H.history['accuracy'])"
      ],
      "metadata": {
        "colab": {
          "base_uri": "https://localhost:8080/",
          "height": 447
        },
        "id": "6XqsyCRWYNyD",
        "outputId": "db9be8e7-fed0-4ba3-d6a8-a5146c137def"
      },
      "execution_count": null,
      "outputs": [
        {
          "output_type": "execute_result",
          "data": {
            "text/plain": [
              "[<matplotlib.lines.Line2D at 0x7f81f02ba950>]"
            ]
          },
          "metadata": {},
          "execution_count": 92
        },
        {
          "output_type": "display_data",
          "data": {
            "text/plain": [
              "<Figure size 640x480 with 1 Axes>"
            ],
            "image/png": "[encoded data removed]"
          },
          "metadata": {}
        }
      ]
    },
    {
      "cell_type": "code",
      "source": [
        "plt.plot(H.history['val_accuracy'])\n",
        "plt.plot(H.history['val_loss'])"
      ],
      "metadata": {
        "colab": {
          "base_uri": "https://localhost:8080/",
          "height": 447
        },
        "id": "sW5rvlvJaJcy",
        "outputId": "6e63b536-4ea6-46bf-e312-5a0d9464919f"
      },
      "execution_count": null,
      "outputs": [
        {
          "output_type": "execute_result",
          "data": {
            "text/plain": [
              "[<matplotlib.lines.Line2D at 0x7f81f5d65000>]"
            ]
          },
          "metadata": {},
          "execution_count": 93
        },
        {
          "output_type": "display_data",
          "data": {
            "text/plain": [
              "<Figure size 640x480 with 1 Axes>"
            ],
            "image/png": "[encoded data removed]"
          },
          "metadata": {}
        }
      ]
    },
    {
      "cell_type": "code",
      "source": [
        "idx_test = 40\n",
        "x_test[idx_test].shape, x_train[idx_test].shape"
      ],
      "metadata": {
        "id": "NcUYUWnTcZmU",
        "colab": {
          "base_uri": "https://localhost:8080/"
        },
        "outputId": "96d767c0-79f3-41e7-a84a-f9067988f2ab"
      },
      "execution_count": null,
      "outputs": [
        {
          "output_type": "execute_result",
          "data": {
            "text/plain": [
              "((28, 28), (28, 28))"
            ]
          },
          "metadata": {},
          "execution_count": 109
        }
      ]
    },
    {
      "cell_type": "code",
      "source": [
        "plt.imshow(x_test[idx_test])"
      ],
      "metadata": {
        "colab": {
          "base_uri": "https://localhost:8080/",
          "height": 447
        },
        "id": "3uPWsBuXPK9_",
        "outputId": "f825e1a8-458a-4dd6-9106-7fb2495369ca"
      },
      "execution_count": null,
      "outputs": [
        {
          "output_type": "execute_result",
          "data": {
            "text/plain": [
              "<matplotlib.image.AxesImage at 0x7f81f6125420>"
            ]
          },
          "metadata": {},
          "execution_count": 110
        },
        {
          "output_type": "display_data",
          "data": {
            "text/plain": [
              "<Figure size 640x480 with 1 Axes>"
            ],
            "image/png": "[encoded data removed]"
          },
          "metadata": {}
        }
      ]
    },
    {
      "cell_type": "code",
      "source": [
        "pred = red_digitos.predict(x_test[idx_test].reshape(1,28,28,1))\n",
        "pred"
      ],
      "metadata": {
        "colab": {
          "base_uri": "https://localhost:8080/"
        },
        "id": "ZhmFIH3TC4OE",
        "outputId": "989d822b-11dd-4aec-d765-1bf5b61faf69"
      },
      "execution_count": null,
      "outputs": [
        {
          "output_type": "stream",
          "name": "stdout",
          "text": [
            "1/1 [==============================] - 0s 26ms/step\n"
          ]
        },
        {
          "output_type": "execute_result",
          "data": {
            "text/plain": [
              "array([[3.9573461e-08, 9.9995017e-01, 3.5319039e-07, 6.8603421e-09,\n",
              "        9.7693392e-06, 3.5977334e-07, 2.3140888e-07, 2.1253711e-05,\n",
              "        1.4678345e-05, 3.1785496e-06]], dtype=float32)"
            ]
          },
          "metadata": {},
          "execution_count": 111
        }
      ]
    },
    {
      "cell_type": "code",
      "source": [
        "np.argmax(np.round(pred)), y_test[idx_test]"
      ],
      "metadata": {
        "id": "OSImx0qsDZz3",
        "colab": {
          "base_uri": "https://localhost:8080/"
        },
        "outputId": "91f89ac6-7172-4a58-c94d-7714c340c676"
      },
      "execution_count": null,
      "outputs": [
        {
          "output_type": "execute_result",
          "data": {
            "text/plain": [
              "(1, 1)"
            ]
          },
          "metadata": {},
          "execution_count": 112
        }
      ]
    },
    {
      "cell_type": "code",
      "source": [],
      "metadata": {
        "colab": {
          "base_uri": "https://localhost:8080/"
        },
        "id": "_xnJ5jQgEmOk",
        "outputId": "0101eeae-1ced-4f63-d9cb-b62dc38502b6"
      },
      "execution_count": null,
      "outputs": [
        {
          "output_type": "execute_result",
          "data": {
            "text/plain": [
              "9"
            ]
          },
          "metadata": {},
          "execution_count": 107
        }
      ]
    },
    {
      "cell_type": "code",
      "source": [],
      "metadata": {
        "id": "3bvkZo0dEqam"
      },
      "execution_count": null,
      "outputs": []
    }
  ]
}