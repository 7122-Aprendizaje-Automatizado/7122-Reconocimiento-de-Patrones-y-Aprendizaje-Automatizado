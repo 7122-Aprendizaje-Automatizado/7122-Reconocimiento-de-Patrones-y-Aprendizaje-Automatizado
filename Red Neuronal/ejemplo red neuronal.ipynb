{
 "cells": [
  {
   "cell_type": "code",
   "execution_count": 44,
   "id": "9cba0b5b",
   "metadata": {},
   "outputs": [],
   "source": [
    "import pandas as pd\n",
    "from sklearn.datasets import load_breast_cancer\n",
    "from sklearn.model_selection import train_test_split\n",
    "from sklearn.preprocessing   import StandardScaler\n",
    "from sklearn.preprocessing   import MinMaxScaler"
   ]
  },
  {
   "cell_type": "code",
   "execution_count": 2,
   "id": "f6dba2e3",
   "metadata": {},
   "outputs": [
    {
     "data": {
      "text/html": [
       "<div>\n",
       "<style scoped>\n",
       "    .dataframe tbody tr th:only-of-type {\n",
       "        vertical-align: middle;\n",
       "    }\n",
       "\n",
       "    .dataframe tbody tr th {\n",
       "        vertical-align: top;\n",
       "    }\n",
       "\n",
       "    .dataframe thead th {\n",
       "        text-align: right;\n",
       "    }\n",
       "</style>\n",
       "<table border=\"1\" class=\"dataframe\">\n",
       "  <thead>\n",
       "    <tr style=\"text-align: right;\">\n",
       "      <th></th>\n",
       "      <th>mean radius</th>\n",
       "      <th>mean texture</th>\n",
       "      <th>mean perimeter</th>\n",
       "      <th>mean area</th>\n",
       "      <th>mean smoothness</th>\n",
       "      <th>mean compactness</th>\n",
       "      <th>mean concavity</th>\n",
       "      <th>mean concave points</th>\n",
       "      <th>mean symmetry</th>\n",
       "      <th>mean fractal dimension</th>\n",
       "      <th>...</th>\n",
       "      <th>worst radius</th>\n",
       "      <th>worst texture</th>\n",
       "      <th>worst perimeter</th>\n",
       "      <th>worst area</th>\n",
       "      <th>worst smoothness</th>\n",
       "      <th>worst compactness</th>\n",
       "      <th>worst concavity</th>\n",
       "      <th>worst concave points</th>\n",
       "      <th>worst symmetry</th>\n",
       "      <th>worst fractal dimension</th>\n",
       "    </tr>\n",
       "  </thead>\n",
       "  <tbody>\n",
       "    <tr>\n",
       "      <th>0</th>\n",
       "      <td>17.99</td>\n",
       "      <td>10.38</td>\n",
       "      <td>122.80</td>\n",
       "      <td>1001.0</td>\n",
       "      <td>0.11840</td>\n",
       "      <td>0.27760</td>\n",
       "      <td>0.3001</td>\n",
       "      <td>0.14710</td>\n",
       "      <td>0.2419</td>\n",
       "      <td>0.07871</td>\n",
       "      <td>...</td>\n",
       "      <td>25.38</td>\n",
       "      <td>17.33</td>\n",
       "      <td>184.60</td>\n",
       "      <td>2019.0</td>\n",
       "      <td>0.1622</td>\n",
       "      <td>0.6656</td>\n",
       "      <td>0.7119</td>\n",
       "      <td>0.2654</td>\n",
       "      <td>0.4601</td>\n",
       "      <td>0.11890</td>\n",
       "    </tr>\n",
       "    <tr>\n",
       "      <th>1</th>\n",
       "      <td>20.57</td>\n",
       "      <td>17.77</td>\n",
       "      <td>132.90</td>\n",
       "      <td>1326.0</td>\n",
       "      <td>0.08474</td>\n",
       "      <td>0.07864</td>\n",
       "      <td>0.0869</td>\n",
       "      <td>0.07017</td>\n",
       "      <td>0.1812</td>\n",
       "      <td>0.05667</td>\n",
       "      <td>...</td>\n",
       "      <td>24.99</td>\n",
       "      <td>23.41</td>\n",
       "      <td>158.80</td>\n",
       "      <td>1956.0</td>\n",
       "      <td>0.1238</td>\n",
       "      <td>0.1866</td>\n",
       "      <td>0.2416</td>\n",
       "      <td>0.1860</td>\n",
       "      <td>0.2750</td>\n",
       "      <td>0.08902</td>\n",
       "    </tr>\n",
       "    <tr>\n",
       "      <th>2</th>\n",
       "      <td>19.69</td>\n",
       "      <td>21.25</td>\n",
       "      <td>130.00</td>\n",
       "      <td>1203.0</td>\n",
       "      <td>0.10960</td>\n",
       "      <td>0.15990</td>\n",
       "      <td>0.1974</td>\n",
       "      <td>0.12790</td>\n",
       "      <td>0.2069</td>\n",
       "      <td>0.05999</td>\n",
       "      <td>...</td>\n",
       "      <td>23.57</td>\n",
       "      <td>25.53</td>\n",
       "      <td>152.50</td>\n",
       "      <td>1709.0</td>\n",
       "      <td>0.1444</td>\n",
       "      <td>0.4245</td>\n",
       "      <td>0.4504</td>\n",
       "      <td>0.2430</td>\n",
       "      <td>0.3613</td>\n",
       "      <td>0.08758</td>\n",
       "    </tr>\n",
       "    <tr>\n",
       "      <th>3</th>\n",
       "      <td>11.42</td>\n",
       "      <td>20.38</td>\n",
       "      <td>77.58</td>\n",
       "      <td>386.1</td>\n",
       "      <td>0.14250</td>\n",
       "      <td>0.28390</td>\n",
       "      <td>0.2414</td>\n",
       "      <td>0.10520</td>\n",
       "      <td>0.2597</td>\n",
       "      <td>0.09744</td>\n",
       "      <td>...</td>\n",
       "      <td>14.91</td>\n",
       "      <td>26.50</td>\n",
       "      <td>98.87</td>\n",
       "      <td>567.7</td>\n",
       "      <td>0.2098</td>\n",
       "      <td>0.8663</td>\n",
       "      <td>0.6869</td>\n",
       "      <td>0.2575</td>\n",
       "      <td>0.6638</td>\n",
       "      <td>0.17300</td>\n",
       "    </tr>\n",
       "    <tr>\n",
       "      <th>4</th>\n",
       "      <td>20.29</td>\n",
       "      <td>14.34</td>\n",
       "      <td>135.10</td>\n",
       "      <td>1297.0</td>\n",
       "      <td>0.10030</td>\n",
       "      <td>0.13280</td>\n",
       "      <td>0.1980</td>\n",
       "      <td>0.10430</td>\n",
       "      <td>0.1809</td>\n",
       "      <td>0.05883</td>\n",
       "      <td>...</td>\n",
       "      <td>22.54</td>\n",
       "      <td>16.67</td>\n",
       "      <td>152.20</td>\n",
       "      <td>1575.0</td>\n",
       "      <td>0.1374</td>\n",
       "      <td>0.2050</td>\n",
       "      <td>0.4000</td>\n",
       "      <td>0.1625</td>\n",
       "      <td>0.2364</td>\n",
       "      <td>0.07678</td>\n",
       "    </tr>\n",
       "  </tbody>\n",
       "</table>\n",
       "<p>5 rows × 30 columns</p>\n",
       "</div>"
      ],
      "text/plain": [
       "   mean radius  mean texture  mean perimeter  mean area  mean smoothness  \\\n",
       "0        17.99         10.38          122.80     1001.0          0.11840   \n",
       "1        20.57         17.77          132.90     1326.0          0.08474   \n",
       "2        19.69         21.25          130.00     1203.0          0.10960   \n",
       "3        11.42         20.38           77.58      386.1          0.14250   \n",
       "4        20.29         14.34          135.10     1297.0          0.10030   \n",
       "\n",
       "   mean compactness  mean concavity  mean concave points  mean symmetry  \\\n",
       "0           0.27760          0.3001              0.14710         0.2419   \n",
       "1           0.07864          0.0869              0.07017         0.1812   \n",
       "2           0.15990          0.1974              0.12790         0.2069   \n",
       "3           0.28390          0.2414              0.10520         0.2597   \n",
       "4           0.13280          0.1980              0.10430         0.1809   \n",
       "\n",
       "   mean fractal dimension  ...  worst radius  worst texture  worst perimeter  \\\n",
       "0                 0.07871  ...         25.38          17.33           184.60   \n",
       "1                 0.05667  ...         24.99          23.41           158.80   \n",
       "2                 0.05999  ...         23.57          25.53           152.50   \n",
       "3                 0.09744  ...         14.91          26.50            98.87   \n",
       "4                 0.05883  ...         22.54          16.67           152.20   \n",
       "\n",
       "   worst area  worst smoothness  worst compactness  worst concavity  \\\n",
       "0      2019.0            0.1622             0.6656           0.7119   \n",
       "1      1956.0            0.1238             0.1866           0.2416   \n",
       "2      1709.0            0.1444             0.4245           0.4504   \n",
       "3       567.7            0.2098             0.8663           0.6869   \n",
       "4      1575.0            0.1374             0.2050           0.4000   \n",
       "\n",
       "   worst concave points  worst symmetry  worst fractal dimension  \n",
       "0                0.2654          0.4601                  0.11890  \n",
       "1                0.1860          0.2750                  0.08902  \n",
       "2                0.2430          0.3613                  0.08758  \n",
       "3                0.2575          0.6638                  0.17300  \n",
       "4                0.1625          0.2364                  0.07678  \n",
       "\n",
       "[5 rows x 30 columns]"
      ]
     },
     "execution_count": 2,
     "metadata": {},
     "output_type": "execute_result"
    }
   ],
   "source": [
    "cancer = load_breast_cancer()\n",
    "df = pd.DataFrame(cancer.data,\n",
    "                  columns=cancer.feature_names)\n",
    "df.head()"
   ]
  },
  {
   "cell_type": "code",
   "execution_count": 45,
   "id": "051fc0ad",
   "metadata": {},
   "outputs": [],
   "source": [
    "X = df\n",
    "y = pd.Series(cancer.target)\n",
    "X_train, X_test, y_train, y_test = train_test_split(X, y, test_size=0.20, \n",
    "                                                    shuffle=True, random_state=2)\n",
    "\n",
    "X_tr, X_ts = StandardScaler().fit_transform(X_train), StandardScaler().fit_transform(X_test)"
   ]
  },
  {
   "cell_type": "code",
   "execution_count": 20,
   "id": "72c62226",
   "metadata": {
    "scrolled": false
   },
   "outputs": [
    {
     "data": {
      "text/plain": [
       "(mean radius                  17.990000\n",
       " mean texture                 10.380000\n",
       " mean perimeter              122.800000\n",
       " mean area                  1001.000000\n",
       " mean smoothness               0.118400\n",
       " mean compactness              0.277600\n",
       " mean concavity                0.300100\n",
       " mean concave points           0.147100\n",
       " mean symmetry                 0.241900\n",
       " mean fractal dimension        0.078710\n",
       " radius error                  1.095000\n",
       " texture error                 0.905300\n",
       " perimeter error               8.589000\n",
       " area error                  153.400000\n",
       " smoothness error              0.006399\n",
       " compactness error             0.049040\n",
       " concavity error               0.053730\n",
       " concave points error          0.015870\n",
       " symmetry error                0.030030\n",
       " fractal dimension error       0.006193\n",
       " worst radius                 25.380000\n",
       " worst texture                17.330000\n",
       " worst perimeter             184.600000\n",
       " worst area                 2019.000000\n",
       " worst smoothness              0.162200\n",
       " worst compactness             0.665600\n",
       " worst concavity               0.711900\n",
       " worst concave points          0.265400\n",
       " worst symmetry                0.460100\n",
       " worst fractal dimension       0.118900\n",
       " Name: 0, dtype: float64,\n",
       " 0)"
      ]
     },
     "execution_count": 20,
     "metadata": {},
     "output_type": "execute_result"
    }
   ],
   "source": [
    "idx = 0\n",
    "X.iloc[idx], y[idx]"
   ]
  },
  {
   "cell_type": "code",
   "execution_count": 5,
   "id": "8c489a70",
   "metadata": {},
   "outputs": [
    {
     "data": {
      "text/plain": [
       "(569, 30)"
      ]
     },
     "execution_count": 5,
     "metadata": {},
     "output_type": "execute_result"
    }
   ],
   "source": [
    "X.shape"
   ]
  },
  {
   "cell_type": "markdown",
   "id": "bc8030b5",
   "metadata": {},
   "source": [
    "## Red Neuronal\n",
    "\n"
   ]
  },
  {
   "cell_type": "code",
   "execution_count": 22,
   "id": "ff0428b9",
   "metadata": {},
   "outputs": [],
   "source": [
    "from keras.models import Sequential\n",
    "from keras.layers import Dense\n",
    "from keras.layers import Dropout\n"
   ]
  },
  {
   "cell_type": "code",
   "execution_count": 24,
   "id": "b6497c4d",
   "metadata": {},
   "outputs": [],
   "source": [
    "# establecemos el modelo donde estarán nuestras capas \n",
    "modelo = Sequential()"
   ]
  },
  {
   "cell_type": "code",
   "execution_count": 36,
   "id": "ef338412",
   "metadata": {},
   "outputs": [
    {
     "data": {
      "text/plain": [
       "[<matplotlib.lines.Line2D at 0x1688005f3a0>]"
      ]
     },
     "execution_count": 36,
     "metadata": {},
     "output_type": "execute_result"
    },
    {
     "data": {
      "image/png": "[encoded data removed]",
      "text/plain": [
       "<Figure size 640x480 with 1 Axes>"
      ]
     },
     "metadata": {},
     "output_type": "display_data"
    }
   ],
   "source": [
    "# Función de activación relu\n",
    "\n",
    "relu = lambda x: max(0, x)\n",
    "\n",
    "X_ejemplo = np.arange(-10,10, 1/1000)\n",
    "Y_ejemplo = np.array([relu(x) for x in X_ejemplo])\n",
    "plt.plot(X_ejemplo, Y_ejemplo)"
   ]
  },
  {
   "cell_type": "code",
   "execution_count": 39,
   "id": "321b60f3",
   "metadata": {},
   "outputs": [
    {
     "name": "stdout",
     "output_type": "stream",
     "text": [
      "Model: \"sequential_3\"\n",
      "_________________________________________________________________\n",
      " Layer (type)                Output Shape              Param #   \n",
      "=================================================================\n",
      " dense_3 (Dense)             (None, 16)                496       \n",
      "                                                                 \n",
      " dense_4 (Dense)             (None, 8)                 136       \n",
      "                                                                 \n",
      " dense_5 (Dense)             (None, 1)                 9         \n",
      "                                                                 \n",
      " dense_6 (Dense)             (None, 16)                32        \n",
      "                                                                 \n",
      " dense_7 (Dense)             (None, 8)                 136       \n",
      "                                                                 \n",
      " dense_8 (Dense)             (None, 1)                 9         \n",
      "                                                                 \n",
      "=================================================================\n",
      "Total params: 818\n",
      "Trainable params: 818\n",
      "Non-trainable params: 0\n",
      "_________________________________________________________________\n"
     ]
    }
   ],
   "source": [
    "# agregamos las capas a nuestro modelo desde la de entrada\n",
    "# hasta la final\n",
    "modelo.add(Dense(16, input_dim=30, activation='relu'))\n",
    "modelo.add(Dense(8, activation='relu'))\n",
    "modelo.add(Dense(1, activation='sigmoid'))\n",
    "\n",
    "modelo.summary()"
   ]
  },
  {
   "cell_type": "code",
   "execution_count": 42,
   "id": "6e979de0",
   "metadata": {},
   "outputs": [],
   "source": [
    "# después de la construcción del modelo, tenemos que compilarlo \n",
    "modelo.compile(loss='binary_crossentropy', \n",
    "               optimizer='adam',\n",
    "               metrics=['accuracy'])"
   ]
  },
  {
   "cell_type": "code",
   "execution_count": 54,
   "id": "3d8f996f",
   "metadata": {},
   "outputs": [
    {
     "name": "stdout",
     "output_type": "stream",
     "text": [
      "Epoch 1/15\n",
      "15/15 [==============================] - 0s 30ms/step - loss: 0.0857 - accuracy: 0.9956 - val_loss: 0.1491 - val_accuracy: 0.9561\n",
      "Epoch 2/15\n",
      "15/15 [==============================] - 0s 10ms/step - loss: 0.0811 - accuracy: 0.9956 - val_loss: 0.1369 - val_accuracy: 0.9561\n",
      "Epoch 3/15\n",
      "15/15 [==============================] - 0s 9ms/step - loss: 0.0760 - accuracy: 0.9956 - val_loss: 0.1348 - val_accuracy: 0.9561\n",
      "Epoch 4/15\n",
      "15/15 [==============================] - 0s 9ms/step - loss: 0.0691 - accuracy: 0.9956 - val_loss: 0.1486 - val_accuracy: 0.9561\n",
      "Epoch 5/15\n",
      "15/15 [==============================] - 0s 11ms/step - loss: 0.0645 - accuracy: 0.9956 - val_loss: 0.1344 - val_accuracy: 0.9561\n",
      "Epoch 6/15\n",
      "15/15 [==============================] - 0s 9ms/step - loss: 0.0596 - accuracy: 0.9978 - val_loss: 0.1237 - val_accuracy: 0.9649\n",
      "Epoch 7/15\n",
      "15/15 [==============================] - 0s 11ms/step - loss: 0.0564 - accuracy: 0.9978 - val_loss: 0.1173 - val_accuracy: 0.9649\n",
      "Epoch 8/15\n",
      "15/15 [==============================] - 0s 10ms/step - loss: 0.0538 - accuracy: 0.9978 - val_loss: 0.1106 - val_accuracy: 0.9825\n",
      "Epoch 9/15\n",
      "15/15 [==============================] - 0s 11ms/step - loss: 0.0497 - accuracy: 0.9978 - val_loss: 0.1078 - val_accuracy: 0.9649\n",
      "Epoch 10/15\n",
      "15/15 [==============================] - 0s 17ms/step - loss: 0.0473 - accuracy: 0.9978 - val_loss: 0.1037 - val_accuracy: 0.9737\n",
      "Epoch 11/15\n",
      "15/15 [==============================] - 0s 19ms/step - loss: 0.0447 - accuracy: 0.9978 - val_loss: 0.1011 - val_accuracy: 0.9737\n",
      "Epoch 12/15\n",
      "15/15 [==============================] - 0s 11ms/step - loss: 0.0416 - accuracy: 0.9978 - val_loss: 0.0958 - val_accuracy: 0.9737\n",
      "Epoch 13/15\n",
      "15/15 [==============================] - 0s 16ms/step - loss: 0.0392 - accuracy: 0.9978 - val_loss: 0.0949 - val_accuracy: 0.9737\n",
      "Epoch 14/15\n",
      "15/15 [==============================] - 0s 13ms/step - loss: 0.0368 - accuracy: 0.9978 - val_loss: 0.0924 - val_accuracy: 0.9737\n",
      "Epoch 15/15\n",
      "15/15 [==============================] - 0s 17ms/step - loss: 0.0352 - accuracy: 0.9978 - val_loss: 0.0915 - val_accuracy: 0.9737\n"
     ]
    }
   ],
   "source": [
    "# ya compilado, podemos entrenarlo \n",
    "H = modelo.fit(X_tr, y_train, \n",
    "               validation_data=(X_ts, y_test),\n",
    "               epochs=15,\n",
    "               batch_size=32,)"
   ]
  },
  {
   "cell_type": "code",
   "execution_count": 55,
   "id": "95a359d3",
   "metadata": {},
   "outputs": [
    {
     "data": {
      "text/plain": [
       "dict_keys(['loss', 'accuracy', 'val_loss', 'val_accuracy'])"
      ]
     },
     "execution_count": 55,
     "metadata": {},
     "output_type": "execute_result"
    }
   ],
   "source": [
    "H.history.keys()"
   ]
  },
  {
   "cell_type": "code",
   "execution_count": 56,
   "id": "91f8d3fa",
   "metadata": {},
   "outputs": [
    {
     "data": {
      "text/plain": [
       "Text(0, 0.5, 'Loss / Val_loss')"
      ]
     },
     "execution_count": 56,
     "metadata": {},
     "output_type": "execute_result"
    },
    {
     "data": {
      "image/png": "[encoded data removed]",
      "text/plain": [
       "<Figure size 640x480 with 1 Axes>"
      ]
     },
     "metadata": {},
     "output_type": "display_data"
    }
   ],
   "source": [
    "plt.plot(H.history['loss'])\n",
    "plt.plot(H.history['val_loss'])\n",
    "\n",
    "plt.title('Función de pérdida')\n",
    "plt.xlabel('Época')\n",
    "plt.ylabel('Loss / Val_loss')"
   ]
  },
  {
   "cell_type": "code",
   "execution_count": 60,
   "id": "a3bef6b4",
   "metadata": {},
   "outputs": [
    {
     "data": {
      "image/png": "[encoded data removed]",
      "text/plain": [
       "<Figure size 640x480 with 1 Axes>"
      ]
     },
     "metadata": {},
     "output_type": "display_data"
    }
   ],
   "source": [
    "plt.plot(H.history['accuracy'])\n",
    "plt.plot(H.history['val_accuracy'])\n",
    "\n",
    "plt.title('Validación')\n",
    "plt.xlabel('Época')\n",
    "plt.ylabel('Accuracy / Val_accuracy');"
   ]
  },
  {
   "cell_type": "code",
   "execution_count": 70,
   "id": "88bb3888",
   "metadata": {},
   "outputs": [],
   "source": [
    "vector_impulso = np.zeros([1,30])\n",
    "vector_impulso[0,6] = 1"
   ]
  },
  {
   "cell_type": "code",
   "execution_count": 71,
   "id": "75d265f5",
   "metadata": {},
   "outputs": [
    {
     "name": "stdout",
     "output_type": "stream",
     "text": [
      "1/1 [==============================] - 0s 16ms/step\n"
     ]
    },
    {
     "data": {
      "text/plain": [
       "array([[0.2600422]], dtype=float32)"
      ]
     },
     "execution_count": 71,
     "metadata": {},
     "output_type": "execute_result"
    }
   ],
   "source": [
    "modelo.predict(vector_impulso)"
   ]
  }
 ],
 "metadata": {
  "kernelspec": {
   "display_name": "Python 3 (ipykernel)",
   "language": "python",
   "name": "python3"
  },
  "language_info": {
   "codemirror_mode": {
    "name": "ipython",
    "version": 3
   },
   "file_extension": ".py",
   "mimetype": "text/x-python",
   "name": "python",
   "nbconvert_exporter": "python",
   "pygments_lexer": "ipython3",
   "version": "3.9.13"
  }
 },
 "nbformat": 4,
 "nbformat_minor": 5
}
