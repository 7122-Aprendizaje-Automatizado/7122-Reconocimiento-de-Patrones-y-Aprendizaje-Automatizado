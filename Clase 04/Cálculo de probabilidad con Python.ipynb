{
 "cells": [
  {
   "cell_type": "markdown",
   "metadata": {},
   "source": [
    "# Cálculo de probabilidad\n"
   ]
  },
  {
   "cell_type": "markdown",
   "metadata": {},
   "source": [
    "## Propiedades de la probabilidad\n",
    "\n",
    "<ol><li>\n",
    "    $$0\\leq p(A) \\leq 1$$\n",
    "</li>\n",
    "<li>La probabilidad de un evento del que tenemos total certeza es 1.\n",
    "    $$p(A) = 1$$\n",
    "</li>\n",
    "<li> Si el evento A y el evento B son mutuamente excluyentes, entonces\n",
    "    $$p(A\\cup B) = p(A) + p(B)$$\n",
    "</li>\n",
    "</ol>"
   ]
  },
  {
   "cell_type": "markdown",
   "metadata": {},
   "source": [
    "## Teoría de conjuntos\n",
    "\n",
    "**Unión:** La unión de varios eventos simples crea un evento compuesto que ocurre si uno o más de los eventos ocurren. La unión de A y B se escribe $A\\cup B$ y significa \"Ya sea A o B, o ambos A y B\".\n",
    "\n",
    "**Intersección:** La intersección de dos o más eventos simples crea un evento compuesto que ocurre sólo si ocurren todos los eventos simples. La intersección de A y B se escribe $A\\cap B$ y significa \"A y B\".\n",
    "\n",
    "**Complemento:** El complemento de un evento significa todo en el espacio de muestreo que no es ese evento. El complemento del evento E se escribe como $E^{c}$.\n",
    "\n",
    "**Conjuntos mutuamente excluyentes:** Si los eventos no pueden ocurrir juntos, son mutuamente excluyentes."
   ]
  },
  {
   "cell_type": "code",
   "execution_count": 35,
   "metadata": {},
   "outputs": [],
   "source": [
    "from matplotlib import pyplot as plt\n",
    "from matplotlib_venn import venn2"
   ]
  },
  {
   "cell_type": "code",
   "execution_count": 52,
   "metadata": {},
   "outputs": [
    {
     "data": {
      "image/png": "[encoded data removed]",
      "text/plain": [
       "<Figure size 432x288 with 1 Axes>"
      ]
     },
     "metadata": {},
     "output_type": "display_data"
    }
   ],
   "source": [
    "diagram = venn2((10, 10, 5))\n",
    "diagram.get_label_by_id(\"10\").set_text(\"C\")\n",
    "diagram.get_label_by_id(\"11\").set_text(\"D\")\n",
    "diagram.get_label_by_id(\"01\").set_text(\"E\")"
   ]
  },
  {
   "cell_type": "markdown",
   "metadata": {},
   "source": [
    "## Operaciones con conjuntos\n",
    "\n",
    "Para unión de conjuntos mutuamente excluyentes:\n",
    "\n",
    "$$P(A\\cup B) = p(A) + p(B)$$\n",
    "\n",
    "Para conjuntos no mutuamente excluyentes:\n",
    "\n",
    "$$P(A\\cup B) = p(A) + p(B) - p(A\\cap B)$$\n",
    "\n",
    "Intersección de eventos independientes:\n",
    "\n",
    "$$p(A\\cap B) = p(A)*p(B)$$\n",
    "\n",
    "**Probabilidad condicional:** la probabilidad de algún evento A, dado que otro evento B ha ocurrido.\n",
    "\n",
    "Intersección de eventos no independientes:\n",
    "\n",
    "$$p(A\\cap B) = p(A)*p(B|A)$$\n",
    "\n",
    "### ¿Hay 'reciprocidad' en la prob condicional?\n",
    "\n",
    "¿Es cierto que $P(B|A) = P(A|B)$?\n",
    "\n",
    "**Tarea moral:** Revisar deducción de Teorema de Bayes\n",
    "\n",
    "## Teorema de Bayes\n",
    "\n",
    "$$P(B|A) = P(A|B)*\\frac{P(B)}{P(A)}$$\n",
    "\n",
    "### Ejemplo y matriz de confusión\n",
    "\n",
    "En una población de 1000 individuos, supongamos que el 1% sufre COVID, y el resto está bien. Escogiendo un individuo al azar:\n",
    "$$P(enfermo) = 0.01$$\n",
    "$$P(sano) = 0.99$$\n",
    "\n",
    "Supongamos que aplicando una prueba a una persona que no tiene COVID, hay una posibilidad del 1% de conseguir un falso positivo, esto es:\n",
    "$$P(+|sano) = 0.01$$\n",
    "$$P(-|sano) = 0.99$$\n",
    "\n",
    "Supongamos que aplicando la prueba a una persona que tiene COVID, hay una posibilidad del 1% de un falso negativo, esto es:\n",
    "$$P(-|enfermo) = 0.01$$\n",
    "$$P(+|enfermo) = 0.99$$\n",
    "\n",
    "La fracción de individuos en el grupo que están sanos y dan negativo (Bayes):\n",
    "$$P(sano\\cap -) = P(sano)*P(-|sano) = 0.99*0.99 = 0.9801$$\n",
    "\n",
    "La fracción de individuos en el grupo que están enfermos y dan positivo:\n",
    "$$P(enfermo\\cap +) = P(enfermo)*P(+|enfermo) = 0.01*0.99 = 0.0099$$\n",
    "\n",
    "La fracción de individuos en el grupo que dan falso positivo:\n",
    "$$P(sano\\cap +) = P(sano)*P(+|sano) = 0.01*0.99 = 0.0099$$\n",
    "\n",
    "La fracción de individuos en el grupo que dan falso negativo:\n",
    "$$P(enfermo\\cap -) = P(enfermo)*P(-|enfermo) = 0.01*0.01 = 0.0001$$"
   ]
  },
  {
   "attachments": {
    "matriz.png": {
     "image/png": "[encoded data removed]"
    }
   },
   "cell_type": "markdown",
   "metadata": {},
   "source": [
    "![matriz.png](attachment:matriz.png)"
   ]
  },
  {
   "cell_type": "markdown",
   "metadata": {},
   "source": [
    "## Números pseudo-aleatorios\n",
    "\n",
    "Cualquier lenguaje de programación tiene una función random, que cuando la llamamos nos devuelve un número pseudo-aleatorio entre 0 y 1. La distribución numérica entre 0 y 1 es uniforme."
   ]
  },
  {
   "cell_type": "code",
   "execution_count": 1,
   "metadata": {},
   "outputs": [],
   "source": [
    "%matplotlib inline\n",
    "import random\n",
    "import matplotlib.pyplot as plt"
   ]
  },
  {
   "cell_type": "code",
   "execution_count": 7,
   "metadata": {},
   "outputs": [
    {
     "data": {
      "text/plain": [
       "0.9892722220993061"
      ]
     },
     "execution_count": 7,
     "metadata": {},
     "output_type": "execute_result"
    }
   ],
   "source": [
    "#Cada vez que ejecutamos este código obtenemos un número distinto:\n",
    "random.random()"
   ]
  },
  {
   "cell_type": "markdown",
   "metadata": {},
   "source": [
    "Se tienen otras funciones que siguen una distribución uniforme:\n",
    "\n",
    "<ol><li>random.randint(a,b) devuelve un número entero entre a y b (inclusive)\n",
    "    </li>\n",
    "    <li>random.choice(lista) devuelve un elemento de lista (que debe ser una lista, cadena de caracteres, conjunto...)\n",
    "    </li></ol>"
   ]
  },
  {
   "cell_type": "code",
   "execution_count": 9,
   "metadata": {},
   "outputs": [
    {
     "name": "stdout",
     "output_type": "stream",
     "text": [
      "17\n",
      "6\n",
      "5\n",
      "8\n",
      "18\n",
      "7\n",
      "5\n",
      "14\n",
      "19\n",
      "17\n"
     ]
    }
   ],
   "source": [
    "for i in range(10):\n",
    "    print (random.randint(5,20))"
   ]
  },
  {
   "cell_type": "code",
   "execution_count": 10,
   "metadata": {},
   "outputs": [
    {
     "name": "stdout",
     "output_type": "stream",
     "text": [
      "B\n",
      "I\n",
      "A\n",
      "E\n",
      "E\n",
      "D\n",
      "D\n",
      "A\n",
      "E\n",
      "B\n"
     ]
    }
   ],
   "source": [
    "for i in range(10):\n",
    "    print(random.choice('ABCDE ?I'))"
   ]
  },
  {
   "cell_type": "markdown",
   "metadata": {},
   "source": [
    "## Semilla aleatoria"
   ]
  },
  {
   "cell_type": "code",
   "execution_count": 14,
   "metadata": {},
   "outputs": [
    {
     "name": "stdout",
     "output_type": "stream",
     "text": [
      "0.7202671550185803\n",
      "0.6330310001166692\n",
      "0.22877255649315598\n",
      "0.25254569034434393\n",
      "0.6060686820396118\n",
      "10\n",
      "9\n",
      "2\n",
      "6\n",
      "2\n",
      "B\n",
      "C\n",
      "A\n",
      "D\n",
      "A\n"
     ]
    }
   ],
   "source": [
    "#Si cambias la semilla, las elecciones cambian, pero con la misma semilla\n",
    "#obtenemos los mismos resultados\n",
    "random.seed(12345678)\n",
    "for i in range(5):\n",
    "    print (random.random())\n",
    "for i in range(5):\n",
    "    print (random.randint(1,10))\n",
    "for i in range(5):\n",
    "    print(random.choice('ABCDE'))"
   ]
  },
  {
   "cell_type": "markdown",
   "metadata": {},
   "source": [
    "### Ejemplo\n",
    "\n",
    "Se tienen dos urnas, y cada una de ellas contiene un número diferente de bolas blancas y rojas:\n",
    "\n",
    "<ol><li>Primera urna, U1: 3 bolas blancas y 2 rojas</li>\n",
    "<li>Segunda urna, U2: 4 bolas blancas y 2 rojas</li></ol>\n",
    "Se realiza el siguiente experimento aleatorio: Se tira una moneda al aire y si sale cara se elige una bola de la primera urna, y si sale cruz de la segunda. ¿Cuál es la probabilidad de que salga una bola blanca?. (sol = 19/30)\n",
    "\n",
    "Solución exacta:\n",
    "$$P(bola\\,blanca) = \\frac{1}{2}\\frac{3}{5} + \\frac{1}{2}\\frac{4}{6} = \\frac{19}{30}$$"
   ]
  },
  {
   "cell_type": "code",
   "execution_count": 15,
   "metadata": {},
   "outputs": [],
   "source": [
    "def prueba():\n",
    "    caja = random.randint(1,2)\n",
    "    if caja == 1:\n",
    "        return random.choice('BBBRR')\n",
    "    else:\n",
    "        return random.choice('BBBBRR')"
   ]
  },
  {
   "cell_type": "code",
   "execution_count": 16,
   "metadata": {},
   "outputs": [
    {
     "name": "stdout",
     "output_type": "stream",
     "text": [
      "R\n",
      "R\n",
      "R\n",
      "R\n",
      "B\n",
      "B\n",
      "R\n",
      "R\n",
      "B\n",
      "B\n"
     ]
    }
   ],
   "source": [
    "for j in range(10):\n",
    "    bola = prueba()\n",
    "    print(bola)"
   ]
  },
  {
   "cell_type": "code",
   "execution_count": 17,
   "metadata": {},
   "outputs": [],
   "source": [
    "def blanca(bola):\n",
    "    if bola=='B':\n",
    "        return True\n",
    "    else:\n",
    "        return False"
   ]
  },
  {
   "cell_type": "code",
   "execution_count": 19,
   "metadata": {},
   "outputs": [
    {
     "name": "stdout",
     "output_type": "stream",
     "text": [
      "Probabilidad aproximada de bola blanca: 0.631\n",
      "Probabilidad real de bola blanca: 0.6333333333333333\n"
     ]
    }
   ],
   "source": [
    "random.seed(12345) \n",
    "N = 1000\n",
    "bola = [prueba() for _ in range(N)]\n",
    "proba = sum(blanca(i) for i in bola)/N\n",
    "print('Probabilidad aproximada de bola blanca:', proba)\n",
    "print('Probabilidad real de bola blanca:', 19/30)"
   ]
  },
  {
   "cell_type": "markdown",
   "metadata": {},
   "source": [
    "## Ejemplo\n",
    "\n",
    "Una urna contiene 5 bolas numeradas 1,2,3,4 y 5. Calcular la probabilidad de que al sacar 2 bolas con reposición y que la suma de los puntos sea impar.\n"
   ]
  },
  {
   "cell_type": "code",
   "execution_count": 21,
   "metadata": {},
   "outputs": [],
   "source": [
    "lista = range(1,6)\n",
    "\n",
    "def prueba1():\n",
    "    bola1 = random.choice(lista)\n",
    "    bola2 = random.choice(lista)\n",
    "    return [bola1, bola2]"
   ]
  },
  {
   "cell_type": "code",
   "execution_count": 22,
   "metadata": {},
   "outputs": [
    {
     "data": {
      "text/plain": [
       "[5, 4]"
      ]
     },
     "execution_count": 22,
     "metadata": {},
     "output_type": "execute_result"
    }
   ],
   "source": [
    "prueba1()"
   ]
  },
  {
   "cell_type": "code",
   "execution_count": 23,
   "metadata": {},
   "outputs": [],
   "source": [
    "def suma(bolas):\n",
    "    return sum(bolas)%2 == 1"
   ]
  },
  {
   "cell_type": "code",
   "execution_count": 24,
   "metadata": {},
   "outputs": [
    {
     "name": "stdout",
     "output_type": "stream",
     "text": [
      "Probabilidad aproximada de que la suma de los puntos sea impar: 0.487\n"
     ]
    }
   ],
   "source": [
    "random.seed(12345) #Prueba a cambiar la semilla: la aproximación cambia \n",
    "N = 1000\n",
    "muestra = [prueba1() for _ in range(N)]\n",
    "prob = sum(suma(e) for e in muestra)/N\n",
    "print('Probabilidad aproximada de que la suma de los puntos sea impar:', prob)"
   ]
  },
  {
   "cell_type": "code",
   "execution_count": null,
   "metadata": {},
   "outputs": [],
   "source": []
  }
 ],
 "metadata": {
  "kernelspec": {
   "display_name": "Python 3 (ipykernel)",
   "language": "python",
   "name": "python3"
  },
  "language_info": {
   "codemirror_mode": {
    "name": "ipython",
    "version": 3
   },
   "file_extension": ".py",
   "mimetype": "text/x-python",
   "name": "python",
   "nbconvert_exporter": "python",
   "pygments_lexer": "ipython3",
   "version": "3.9.5"
  }
 },
 "nbformat": 4,
 "nbformat_minor": 4
}
